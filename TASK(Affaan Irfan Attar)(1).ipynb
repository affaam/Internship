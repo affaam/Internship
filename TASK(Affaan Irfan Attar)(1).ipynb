{
 "cells": [
  {
   "cell_type": "markdown",
   "id": "5ef54e0e-58e2-430b-af10-628916e2c09e",
   "metadata": {},
   "source": [
    "#### Programmer: Affaan Attar\n",
    "#### College: Keystone School Of Engineering\n",
    "#### Class: TE-B(Computer)\n",
    "#### Roll No.: 50 "
   ]
  },
  {
   "cell_type": "code",
   "execution_count": 2,
   "id": "d7e0b28d-cd51-4ce5-a8c5-56a9f5c28d45",
   "metadata": {},
   "outputs": [],
   "source": [
    "import pandas as pd\n",
    "import seaborn as sns\n",
    "import matplotlib.pyplot as plt"
   ]
  },
  {
   "cell_type": "code",
   "execution_count": 3,
   "id": "2096590c-a0aa-46cd-a76b-2cdb433cafe8",
   "metadata": {},
   "outputs": [],
   "source": [
    "df = pd.read_csv(\"MoviesOnStreamingPlatforms.csv\")"
   ]
  },
  {
   "cell_type": "code",
   "execution_count": 4,
   "id": "54d0577e-4ccd-4c1a-bbaf-ce5ac04cbc9c",
   "metadata": {},
   "outputs": [
    {
     "data": {
      "text/html": [
       "<div>\n",
       "<style scoped>\n",
       "    .dataframe tbody tr th:only-of-type {\n",
       "        vertical-align: middle;\n",
       "    }\n",
       "\n",
       "    .dataframe tbody tr th {\n",
       "        vertical-align: top;\n",
       "    }\n",
       "\n",
       "    .dataframe thead th {\n",
       "        text-align: right;\n",
       "    }\n",
       "</style>\n",
       "<table border=\"1\" class=\"dataframe\">\n",
       "  <thead>\n",
       "    <tr style=\"text-align: right;\">\n",
       "      <th></th>\n",
       "      <th>Unnamed: 0</th>\n",
       "      <th>ID</th>\n",
       "      <th>Title</th>\n",
       "      <th>Year</th>\n",
       "      <th>Age</th>\n",
       "      <th>Rotten Tomatoes</th>\n",
       "      <th>Netflix</th>\n",
       "      <th>Hulu</th>\n",
       "      <th>Prime Video</th>\n",
       "      <th>Disney+</th>\n",
       "      <th>Type</th>\n",
       "    </tr>\n",
       "  </thead>\n",
       "  <tbody>\n",
       "    <tr>\n",
       "      <th>0</th>\n",
       "      <td>0</td>\n",
       "      <td>1</td>\n",
       "      <td>The Irishman</td>\n",
       "      <td>2019</td>\n",
       "      <td>18+</td>\n",
       "      <td>98/100</td>\n",
       "      <td>1</td>\n",
       "      <td>0</td>\n",
       "      <td>0</td>\n",
       "      <td>0</td>\n",
       "      <td>0</td>\n",
       "    </tr>\n",
       "    <tr>\n",
       "      <th>1</th>\n",
       "      <td>1</td>\n",
       "      <td>2</td>\n",
       "      <td>Dangal</td>\n",
       "      <td>2016</td>\n",
       "      <td>7+</td>\n",
       "      <td>97/100</td>\n",
       "      <td>1</td>\n",
       "      <td>0</td>\n",
       "      <td>0</td>\n",
       "      <td>0</td>\n",
       "      <td>0</td>\n",
       "    </tr>\n",
       "    <tr>\n",
       "      <th>2</th>\n",
       "      <td>2</td>\n",
       "      <td>3</td>\n",
       "      <td>David Attenborough: A Life on Our Planet</td>\n",
       "      <td>2020</td>\n",
       "      <td>7+</td>\n",
       "      <td>95/100</td>\n",
       "      <td>1</td>\n",
       "      <td>0</td>\n",
       "      <td>0</td>\n",
       "      <td>0</td>\n",
       "      <td>0</td>\n",
       "    </tr>\n",
       "    <tr>\n",
       "      <th>3</th>\n",
       "      <td>3</td>\n",
       "      <td>4</td>\n",
       "      <td>Lagaan: Once Upon a Time in India</td>\n",
       "      <td>2001</td>\n",
       "      <td>7+</td>\n",
       "      <td>94/100</td>\n",
       "      <td>1</td>\n",
       "      <td>0</td>\n",
       "      <td>0</td>\n",
       "      <td>0</td>\n",
       "      <td>0</td>\n",
       "    </tr>\n",
       "    <tr>\n",
       "      <th>4</th>\n",
       "      <td>4</td>\n",
       "      <td>5</td>\n",
       "      <td>Roma</td>\n",
       "      <td>2018</td>\n",
       "      <td>18+</td>\n",
       "      <td>94/100</td>\n",
       "      <td>1</td>\n",
       "      <td>0</td>\n",
       "      <td>0</td>\n",
       "      <td>0</td>\n",
       "      <td>0</td>\n",
       "    </tr>\n",
       "    <tr>\n",
       "      <th>...</th>\n",
       "      <td>...</td>\n",
       "      <td>...</td>\n",
       "      <td>...</td>\n",
       "      <td>...</td>\n",
       "      <td>...</td>\n",
       "      <td>...</td>\n",
       "      <td>...</td>\n",
       "      <td>...</td>\n",
       "      <td>...</td>\n",
       "      <td>...</td>\n",
       "      <td>...</td>\n",
       "    </tr>\n",
       "    <tr>\n",
       "      <th>9510</th>\n",
       "      <td>9510</td>\n",
       "      <td>9511</td>\n",
       "      <td>Most Wanted Sharks</td>\n",
       "      <td>2020</td>\n",
       "      <td>NaN</td>\n",
       "      <td>14/100</td>\n",
       "      <td>0</td>\n",
       "      <td>0</td>\n",
       "      <td>0</td>\n",
       "      <td>1</td>\n",
       "      <td>0</td>\n",
       "    </tr>\n",
       "    <tr>\n",
       "      <th>9511</th>\n",
       "      <td>9511</td>\n",
       "      <td>9512</td>\n",
       "      <td>Doc McStuffins: The Doc Is In</td>\n",
       "      <td>2020</td>\n",
       "      <td>NaN</td>\n",
       "      <td>13/100</td>\n",
       "      <td>0</td>\n",
       "      <td>0</td>\n",
       "      <td>0</td>\n",
       "      <td>1</td>\n",
       "      <td>0</td>\n",
       "    </tr>\n",
       "    <tr>\n",
       "      <th>9512</th>\n",
       "      <td>9512</td>\n",
       "      <td>9513</td>\n",
       "      <td>Ultimate Viking Sword</td>\n",
       "      <td>2019</td>\n",
       "      <td>NaN</td>\n",
       "      <td>13/100</td>\n",
       "      <td>0</td>\n",
       "      <td>0</td>\n",
       "      <td>0</td>\n",
       "      <td>1</td>\n",
       "      <td>0</td>\n",
       "    </tr>\n",
       "    <tr>\n",
       "      <th>9513</th>\n",
       "      <td>9513</td>\n",
       "      <td>9514</td>\n",
       "      <td>Hunt for the Abominable Snowman</td>\n",
       "      <td>2011</td>\n",
       "      <td>NaN</td>\n",
       "      <td>10/100</td>\n",
       "      <td>0</td>\n",
       "      <td>0</td>\n",
       "      <td>0</td>\n",
       "      <td>1</td>\n",
       "      <td>0</td>\n",
       "    </tr>\n",
       "    <tr>\n",
       "      <th>9514</th>\n",
       "      <td>9514</td>\n",
       "      <td>9515</td>\n",
       "      <td>Women of Impact: Changing the World</td>\n",
       "      <td>2019</td>\n",
       "      <td>7+</td>\n",
       "      <td>10/100</td>\n",
       "      <td>0</td>\n",
       "      <td>0</td>\n",
       "      <td>0</td>\n",
       "      <td>1</td>\n",
       "      <td>0</td>\n",
       "    </tr>\n",
       "  </tbody>\n",
       "</table>\n",
       "<p>9515 rows × 11 columns</p>\n",
       "</div>"
      ],
      "text/plain": [
       "      Unnamed: 0    ID                                     Title  Year  Age  \\\n",
       "0              0     1                              The Irishman  2019  18+   \n",
       "1              1     2                                    Dangal  2016   7+   \n",
       "2              2     3  David Attenborough: A Life on Our Planet  2020   7+   \n",
       "3              3     4         Lagaan: Once Upon a Time in India  2001   7+   \n",
       "4              4     5                                      Roma  2018  18+   \n",
       "...          ...   ...                                       ...   ...  ...   \n",
       "9510        9510  9511                        Most Wanted Sharks  2020  NaN   \n",
       "9511        9511  9512             Doc McStuffins: The Doc Is In  2020  NaN   \n",
       "9512        9512  9513                     Ultimate Viking Sword  2019  NaN   \n",
       "9513        9513  9514           Hunt for the Abominable Snowman  2011  NaN   \n",
       "9514        9514  9515       Women of Impact: Changing the World  2019   7+   \n",
       "\n",
       "     Rotten Tomatoes  Netflix  Hulu  Prime Video  Disney+  Type  \n",
       "0             98/100        1     0            0        0     0  \n",
       "1             97/100        1     0            0        0     0  \n",
       "2             95/100        1     0            0        0     0  \n",
       "3             94/100        1     0            0        0     0  \n",
       "4             94/100        1     0            0        0     0  \n",
       "...              ...      ...   ...          ...      ...   ...  \n",
       "9510          14/100        0     0            0        1     0  \n",
       "9511          13/100        0     0            0        1     0  \n",
       "9512          13/100        0     0            0        1     0  \n",
       "9513          10/100        0     0            0        1     0  \n",
       "9514          10/100        0     0            0        1     0  \n",
       "\n",
       "[9515 rows x 11 columns]"
      ]
     },
     "execution_count": 4,
     "metadata": {},
     "output_type": "execute_result"
    }
   ],
   "source": [
    "df"
   ]
  },
  {
   "cell_type": "markdown",
   "id": "596d0e6d-79c9-4e85-af99-fb9b74f3d262",
   "metadata": {},
   "source": [
    "#### 1. Count the total number of Adult movies and print."
   ]
  },
  {
   "cell_type": "code",
   "execution_count": 6,
   "id": "a0f58403-5ee2-45e4-84e0-635428834ec2",
   "metadata": {},
   "outputs": [
    {
     "name": "stdout",
     "output_type": "stream",
     "text": [
      "Total number of Adult movies: 2276\n"
     ]
    }
   ],
   "source": [
    "total_adult_movies = df[df['Age'] == '18+'].shape[0]\n",
    "print(\"Total number of Adult movies:\", total_adult_movies)"
   ]
  },
  {
   "cell_type": "markdown",
   "id": "122bea00-35da-44c4-ac13-b535b3f47015",
   "metadata": {},
   "source": [
    "#### 2. What is the average rating given by rotten tomatoes to movies released in year 2018?"
   ]
  },
  {
   "cell_type": "code",
   "execution_count": 16,
   "id": "d45d775c-94b1-43b5-877b-3ec0ce5cae95",
   "metadata": {},
   "outputs": [],
   "source": [
    "df['Rotten Tomatoes'] = pd.to_numeric(df['Rotten Tomatoes'], errors='coerce')"
   ]
  },
  {
   "cell_type": "code",
   "execution_count": 17,
   "id": "fb252e7b-5ee9-454b-9725-a5ef33069e11",
   "metadata": {},
   "outputs": [],
   "source": [
    "avg_rating_2018 = df[df['Year'] == 2018]['Rotten Tomatoes'].mean()"
   ]
  },
  {
   "cell_type": "code",
   "execution_count": 18,
   "id": "74fa4223-d85d-4d22-8976-e9797fe243e2",
   "metadata": {},
   "outputs": [
    {
     "name": "stdout",
     "output_type": "stream",
     "text": [
      "Average rating of movies released in 2018: nan\n"
     ]
    }
   ],
   "source": [
    "print(\"Average rating of movies released in 2018:\", avg_rating_2018)"
   ]
  },
  {
   "cell_type": "markdown",
   "id": "fe1277cb-f9f8-410e-ba80-e60113acdcbb",
   "metadata": {},
   "source": [
    "#### 3. Extract information of all the movies released on Prime Video and store in a csv file 'amazon.csv'."
   ]
  },
  {
   "cell_type": "code",
   "execution_count": 19,
   "id": "43974677-b2a3-40df-a73b-532fa761603e",
   "metadata": {},
   "outputs": [],
   "source": [
    "prime_video_movies = df[df['Prime Video'] == 1]\n",
    "prime_video_movies.to_csv(\"amazon.csv\", index=False)"
   ]
  },
  {
   "cell_type": "code",
   "execution_count": 20,
   "id": "e809ab7f-5180-4db1-9cf0-7928e7dc2193",
   "metadata": {},
   "outputs": [],
   "source": [
    "df1 = pd.read_csv(\"amazon.csv\")"
   ]
  },
  {
   "cell_type": "code",
   "execution_count": 21,
   "id": "aa73527a-8611-49f4-a9ae-650a76b69429",
   "metadata": {},
   "outputs": [
    {
     "data": {
      "text/html": [
       "<div>\n",
       "<style scoped>\n",
       "    .dataframe tbody tr th:only-of-type {\n",
       "        vertical-align: middle;\n",
       "    }\n",
       "\n",
       "    .dataframe tbody tr th {\n",
       "        vertical-align: top;\n",
       "    }\n",
       "\n",
       "    .dataframe thead th {\n",
       "        text-align: right;\n",
       "    }\n",
       "</style>\n",
       "<table border=\"1\" class=\"dataframe\">\n",
       "  <thead>\n",
       "    <tr style=\"text-align: right;\">\n",
       "      <th></th>\n",
       "      <th>Unnamed: 0</th>\n",
       "      <th>ID</th>\n",
       "      <th>Title</th>\n",
       "      <th>Year</th>\n",
       "      <th>Age</th>\n",
       "      <th>Rotten Tomatoes</th>\n",
       "      <th>Netflix</th>\n",
       "      <th>Hulu</th>\n",
       "      <th>Prime Video</th>\n",
       "      <th>Disney+</th>\n",
       "      <th>Type</th>\n",
       "    </tr>\n",
       "  </thead>\n",
       "  <tbody>\n",
       "    <tr>\n",
       "      <th>0</th>\n",
       "      <td>116</td>\n",
       "      <td>117</td>\n",
       "      <td>The Terminal</td>\n",
       "      <td>2004</td>\n",
       "      <td>13+</td>\n",
       "      <td>NaN</td>\n",
       "      <td>1</td>\n",
       "      <td>0</td>\n",
       "      <td>1</td>\n",
       "      <td>0</td>\n",
       "      <td>0</td>\n",
       "    </tr>\n",
       "    <tr>\n",
       "      <th>1</th>\n",
       "      <td>155</td>\n",
       "      <td>156</td>\n",
       "      <td>Seven Pounds</td>\n",
       "      <td>2008</td>\n",
       "      <td>13+</td>\n",
       "      <td>NaN</td>\n",
       "      <td>1</td>\n",
       "      <td>0</td>\n",
       "      <td>1</td>\n",
       "      <td>0</td>\n",
       "      <td>0</td>\n",
       "    </tr>\n",
       "    <tr>\n",
       "      <th>2</th>\n",
       "      <td>158</td>\n",
       "      <td>159</td>\n",
       "      <td>Les Misérables</td>\n",
       "      <td>2012</td>\n",
       "      <td>13+</td>\n",
       "      <td>NaN</td>\n",
       "      <td>1</td>\n",
       "      <td>0</td>\n",
       "      <td>1</td>\n",
       "      <td>0</td>\n",
       "      <td>0</td>\n",
       "    </tr>\n",
       "    <tr>\n",
       "      <th>3</th>\n",
       "      <td>184</td>\n",
       "      <td>185</td>\n",
       "      <td>Underworld</td>\n",
       "      <td>2003</td>\n",
       "      <td>18+</td>\n",
       "      <td>NaN</td>\n",
       "      <td>1</td>\n",
       "      <td>1</td>\n",
       "      <td>1</td>\n",
       "      <td>0</td>\n",
       "      <td>0</td>\n",
       "    </tr>\n",
       "    <tr>\n",
       "      <th>4</th>\n",
       "      <td>185</td>\n",
       "      <td>186</td>\n",
       "      <td>The Ring</td>\n",
       "      <td>2002</td>\n",
       "      <td>13+</td>\n",
       "      <td>NaN</td>\n",
       "      <td>1</td>\n",
       "      <td>0</td>\n",
       "      <td>1</td>\n",
       "      <td>0</td>\n",
       "      <td>0</td>\n",
       "    </tr>\n",
       "    <tr>\n",
       "      <th>...</th>\n",
       "      <td>...</td>\n",
       "      <td>...</td>\n",
       "      <td>...</td>\n",
       "      <td>...</td>\n",
       "      <td>...</td>\n",
       "      <td>...</td>\n",
       "      <td>...</td>\n",
       "      <td>...</td>\n",
       "      <td>...</td>\n",
       "      <td>...</td>\n",
       "      <td>...</td>\n",
       "    </tr>\n",
       "    <tr>\n",
       "      <th>4108</th>\n",
       "      <td>8610</td>\n",
       "      <td>8611</td>\n",
       "      <td>Arthur and the Haunted Tree House</td>\n",
       "      <td>2017</td>\n",
       "      <td>NaN</td>\n",
       "      <td>NaN</td>\n",
       "      <td>0</td>\n",
       "      <td>0</td>\n",
       "      <td>1</td>\n",
       "      <td>0</td>\n",
       "      <td>0</td>\n",
       "    </tr>\n",
       "    <tr>\n",
       "      <th>4109</th>\n",
       "      <td>8611</td>\n",
       "      <td>8612</td>\n",
       "      <td>Rollin: The Fall of the Auto Industry and the ...</td>\n",
       "      <td>2016</td>\n",
       "      <td>NaN</td>\n",
       "      <td>NaN</td>\n",
       "      <td>0</td>\n",
       "      <td>0</td>\n",
       "      <td>1</td>\n",
       "      <td>0</td>\n",
       "      <td>0</td>\n",
       "    </tr>\n",
       "    <tr>\n",
       "      <th>4110</th>\n",
       "      <td>8612</td>\n",
       "      <td>8613</td>\n",
       "      <td>The Fairies: Fairy Beach</td>\n",
       "      <td>2007</td>\n",
       "      <td>all</td>\n",
       "      <td>NaN</td>\n",
       "      <td>0</td>\n",
       "      <td>0</td>\n",
       "      <td>1</td>\n",
       "      <td>0</td>\n",
       "      <td>0</td>\n",
       "    </tr>\n",
       "    <tr>\n",
       "      <th>4111</th>\n",
       "      <td>8613</td>\n",
       "      <td>8614</td>\n",
       "      <td>5K1-States Evidence</td>\n",
       "      <td>2018</td>\n",
       "      <td>NaN</td>\n",
       "      <td>NaN</td>\n",
       "      <td>0</td>\n",
       "      <td>0</td>\n",
       "      <td>1</td>\n",
       "      <td>0</td>\n",
       "      <td>0</td>\n",
       "    </tr>\n",
       "    <tr>\n",
       "      <th>4112</th>\n",
       "      <td>8614</td>\n",
       "      <td>8615</td>\n",
       "      <td>Fire Lines</td>\n",
       "      <td>2014</td>\n",
       "      <td>13+</td>\n",
       "      <td>NaN</td>\n",
       "      <td>0</td>\n",
       "      <td>0</td>\n",
       "      <td>1</td>\n",
       "      <td>0</td>\n",
       "      <td>0</td>\n",
       "    </tr>\n",
       "  </tbody>\n",
       "</table>\n",
       "<p>4113 rows × 11 columns</p>\n",
       "</div>"
      ],
      "text/plain": [
       "      Unnamed: 0    ID                                              Title  \\\n",
       "0            116   117                                       The Terminal   \n",
       "1            155   156                                       Seven Pounds   \n",
       "2            158   159                                     Les Misérables   \n",
       "3            184   185                                         Underworld   \n",
       "4            185   186                                           The Ring   \n",
       "...          ...   ...                                                ...   \n",
       "4108        8610  8611                  Arthur and the Haunted Tree House   \n",
       "4109        8611  8612  Rollin: The Fall of the Auto Industry and the ...   \n",
       "4110        8612  8613                           The Fairies: Fairy Beach   \n",
       "4111        8613  8614                                5K1-States Evidence   \n",
       "4112        8614  8615                                         Fire Lines   \n",
       "\n",
       "      Year  Age  Rotten Tomatoes  Netflix  Hulu  Prime Video  Disney+  Type  \n",
       "0     2004  13+              NaN        1     0            1        0     0  \n",
       "1     2008  13+              NaN        1     0            1        0     0  \n",
       "2     2012  13+              NaN        1     0            1        0     0  \n",
       "3     2003  18+              NaN        1     1            1        0     0  \n",
       "4     2002  13+              NaN        1     0            1        0     0  \n",
       "...    ...  ...              ...      ...   ...          ...      ...   ...  \n",
       "4108  2017  NaN              NaN        0     0            1        0     0  \n",
       "4109  2016  NaN              NaN        0     0            1        0     0  \n",
       "4110  2007  all              NaN        0     0            1        0     0  \n",
       "4111  2018  NaN              NaN        0     0            1        0     0  \n",
       "4112  2014  13+              NaN        0     0            1        0     0  \n",
       "\n",
       "[4113 rows x 11 columns]"
      ]
     },
     "execution_count": 21,
     "metadata": {},
     "output_type": "execute_result"
    }
   ],
   "source": [
    "df1"
   ]
  },
  {
   "cell_type": "markdown",
   "id": "7a0ef47a-3fd9-4b61-b1a9-1f64a8b7a946",
   "metadata": {},
   "source": [
    "#### 4. Find all the movie names where age group is not mentioned."
   ]
  },
  {
   "cell_type": "code",
   "execution_count": 22,
   "id": "7520e263-afd8-48b5-bb0c-b6c1e2ababe2",
   "metadata": {},
   "outputs": [
    {
     "name": "stdout",
     "output_type": "stream",
     "text": [
      "Movies with age group not mentioned:\n",
      "35                            On Body and Soul\n",
      "40                                  Special 26\n",
      "57                   The Distinguished Citizen\n",
      "65                               Chasing Coral\n",
      "88                 What Happened, Miss Simone?\n",
      "                         ...                  \n",
      "9509    Built for Mars: The Perseverance Rover\n",
      "9510                        Most Wanted Sharks\n",
      "9511             Doc McStuffins: The Doc Is In\n",
      "9512                     Ultimate Viking Sword\n",
      "9513           Hunt for the Abominable Snowman\n",
      "Name: Title, Length: 4177, dtype: object\n"
     ]
    }
   ],
   "source": [
    "movies_no_age_group = df[df['Age'].isnull()]['Title']\n",
    "print(\"Movies with age group not mentioned:\")\n",
    "print(movies_no_age_group)"
   ]
  },
  {
   "cell_type": "markdown",
   "id": "f92df8d4-6d8e-44f8-8426-6768c18eafb6",
   "metadata": {},
   "source": [
    "#### 5. How many movies are available on multiple platforms?"
   ]
  },
  {
   "cell_type": "code",
   "execution_count": 23,
   "id": "37a48632-c43f-4718-ba06-8c98175dcece",
   "metadata": {},
   "outputs": [],
   "source": [
    "multiple_platforms_count = df[(df['Netflix'] + df['Hulu'] + df['Prime Video'] + df['Disney+']) > 1].shape[0]"
   ]
  },
  {
   "cell_type": "code",
   "execution_count": 24,
   "id": "cd9740f1-0357-47f2-93d9-7a05fb15292e",
   "metadata": {},
   "outputs": [
    {
     "name": "stdout",
     "output_type": "stream",
     "text": [
      "Number of movies available on multiple platforms: 253\n"
     ]
    }
   ],
   "source": [
    "print(\"Number of movies available on multiple platforms:\", multiple_platforms_count)"
   ]
  },
  {
   "cell_type": "markdown",
   "id": "0b081a85-cbf7-4666-bb9b-ba038365cfe5",
   "metadata": {},
   "source": [
    "#### 6. What is average rating of the movies released on Netflix in year 2010?"
   ]
  },
  {
   "cell_type": "code",
   "execution_count": 25,
   "id": "0033eb2d-8f6b-4dab-95f4-43a074f678c5",
   "metadata": {},
   "outputs": [],
   "source": [
    "avg_rating_netflix_2010 = df[(df['Netflix'] == 1) & (df['Year'] == 2010)]['Rotten Tomatoes'].mean()"
   ]
  },
  {
   "cell_type": "code",
   "execution_count": 26,
   "id": "d22182af-57d3-413d-8a21-3a424cafe851",
   "metadata": {},
   "outputs": [
    {
     "name": "stdout",
     "output_type": "stream",
     "text": [
      "Average rating of movies released on Netflix in 2010: nan\n"
     ]
    }
   ],
   "source": [
    "print(\"Average rating of movies released on Netflix in 2010:\", avg_rating_netflix_2010)"
   ]
  },
  {
   "cell_type": "markdown",
   "id": "93881159-e177-4856-a01d-235ab88b21bb",
   "metadata": {},
   "source": [
    "#### 7. Print the information of movies available on Disney plus for 13+ age."
   ]
  },
  {
   "cell_type": "code",
   "execution_count": 27,
   "id": "bd2e8439-9b38-477c-8c23-11909f5f6293",
   "metadata": {},
   "outputs": [
    {
     "name": "stdout",
     "output_type": "stream",
     "text": [
      "Movies available on Disney+ for 13+ age:\n",
      "      Unnamed: 0    ID                                              Title  \\\n",
      "4203        4203  4204                                        Teen Spirit   \n",
      "4863        4863  4864                                          Pinocchio   \n",
      "5613        5613  5614                                               Wind   \n",
      "8616        8616  8617                                  Avengers: Endgame   \n",
      "8617        8617  8618                             Avengers: Infinity War   \n",
      "...          ...   ...                                                ...   \n",
      "9479        9479  9480                      The Lost City of Machu Picchu   \n",
      "9484        9484  9485                                      Wild Portugal   \n",
      "9488        9488  9489  Shark Attack Investigation: The Paige Winter S...   \n",
      "9507        9507  9508                                  Texas Storm Squad   \n",
      "9508        9508  9509                                    What the Shark?   \n",
      "\n",
      "      Year  Age  Rotten Tomatoes  Netflix  Hulu  Prime Video  Disney+  Type  \n",
      "4203  2019  13+              NaN        0     1            0        1     0  \n",
      "4863  2019  13+              NaN        0     0            1        1     0  \n",
      "5613  1992  13+              NaN        0     0            1        1     0  \n",
      "8616  2019  13+              NaN        0     0            0        1     0  \n",
      "8617  2018  13+              NaN        0     0            0        1     0  \n",
      "...    ...  ...              ...      ...   ...          ...      ...   ...  \n",
      "9479  2019  13+              NaN        0     0            0        1     0  \n",
      "9484  2020  13+              NaN        0     0            0        1     0  \n",
      "9488  2020  13+              NaN        0     0            0        1     0  \n",
      "9507  2020  13+              NaN        0     0            0        1     0  \n",
      "9508  2020  13+              NaN        0     0            0        1     0  \n",
      "\n",
      "[70 rows x 11 columns]\n"
     ]
    }
   ],
   "source": [
    "disney_plus_13plus_movies = df[(df['Disney+'] == 1) & (df['Age'] == '13+')]\n",
    "print(\"Movies available on Disney+ for 13+ age:\")\n",
    "print(disney_plus_13plus_movies)"
   ]
  },
  {
   "cell_type": "markdown",
   "id": "4ad0e9f4-7630-492e-b960-dda7ec8fbc7e",
   "metadata": {},
   "source": [
    "#### 8. What is the name of highest rated movie released in year 1977?"
   ]
  },
  {
   "cell_type": "code",
   "execution_count": 28,
   "id": "8f125dde-4672-4f3b-8b26-bd28ab71acb5",
   "metadata": {},
   "outputs": [
    {
     "name": "stdout",
     "output_type": "stream",
     "text": [
      "Highest rated movie released in 1977: Hitler: A Career\n"
     ]
    }
   ],
   "source": [
    "highest_rated_1977 = df[df['Year'] == 1977].nlargest(1, 'Rotten Tomatoes')['Title'].values[0]\n",
    "print(\"Highest rated movie released in 1977:\", highest_rated_1977)"
   ]
  },
  {
   "cell_type": "markdown",
   "id": "1af503e6-be3a-4de4-aeae-021e8df8036e",
   "metadata": {},
   "source": [
    "#### 9. Print information of all the movies released in 2020 on Hulu."
   ]
  },
  {
   "cell_type": "code",
   "execution_count": 29,
   "id": "130d7cea-de92-4775-b5c0-186946731110",
   "metadata": {},
   "outputs": [
    {
     "name": "stdout",
     "output_type": "stream",
     "text": [
      "Movies released in 2020 on Hulu:\n",
      "      Unnamed: 0    ID                                              Title  \\\n",
      "1674        1674  1675                                             MOTHER   \n",
      "2259        2259  2260                                       Born to Play   \n",
      "3712        3712  3713                                    Happiest Season   \n",
      "3718        3718  3719                               Big Time Adolescence   \n",
      "3737        3737  3738                                      Another Round   \n",
      "...          ...   ...                                                ...   \n",
      "4662        4662  4663                                      Naughty Books   \n",
      "4678        4678  4679                                            Carrion   \n",
      "4684        4684  4685                                   A Christmas Hero   \n",
      "4698        4698  4699  Michael Smerconish: Things I Wish I Knew Befor...   \n",
      "4699        4699  4700                                      Alien Contact   \n",
      "\n",
      "      Year  Age  Rotten Tomatoes  Netflix  Hulu  Prime Video  Disney+  Type  \n",
      "1674  2020  NaN              NaN        1     1            0        0     0  \n",
      "2259  2020  NaN              NaN        1     1            0        0     0  \n",
      "3712  2020  13+              NaN        0     1            0        0     0  \n",
      "3718  2020  18+              NaN        0     1            0        0     0  \n",
      "3737  2020  18+              NaN        0     1            0        0     0  \n",
      "...    ...  ...              ...      ...   ...          ...      ...   ...  \n",
      "4662  2020  NaN              NaN        0     1            0        0     0  \n",
      "4678  2020  NaN              NaN        0     1            0        0     0  \n",
      "4684  2020  NaN              NaN        0     1            0        0     0  \n",
      "4698  2020  NaN              NaN        0     1            0        0     0  \n",
      "4699  2020  NaN              NaN        0     1            0        0     0  \n",
      "\n",
      "[116 rows x 11 columns]\n"
     ]
    }
   ],
   "source": [
    "hulu_2020_movies = df[(df['Hulu'] == 1) & (df['Year'] == 2020)]\n",
    "print(\"Movies released in 2020 on Hulu:\")\n",
    "print(hulu_2020_movies)"
   ]
  },
  {
   "cell_type": "markdown",
   "id": "d4d5311d-1acc-4a37-a903-79dc48bc351f",
   "metadata": {},
   "source": [
    "#### 10. Sort and print movie names and their release year from Prime Video platform."
   ]
  },
  {
   "cell_type": "code",
   "execution_count": 30,
   "id": "0ae06dcd-6203-4b22-9f0b-b16d7022b56f",
   "metadata": {},
   "outputs": [
    {
     "name": "stdout",
     "output_type": "stream",
     "text": [
      "Movie names and release year from Prime Video platform:\n",
      "                         Title  Year\n",
      "7043  The Patchwork Girl of Oz  1914\n",
      "6151                 The Cheat  1915\n",
      "7208      Fanchon, the Cricket  1915\n",
      "7314            Joan the Woman  1916\n",
      "5281           Broken Blossoms  1919\n",
      "...                        ...   ...\n",
      "6893    These Streets We Haunt  2021\n",
      "4737          The Tomorrow War  2021\n",
      "6698                  The Lift  2021\n",
      "6887       My Brother's Keeper  2021\n",
      "7540     Gun and a Hotel Bible  2021\n",
      "\n",
      "[4113 rows x 2 columns]\n"
     ]
    }
   ],
   "source": [
    "prime_video_movies_sorted = df[df['Prime Video'] == 1][['Title', 'Year']].sort_values(by='Year')\n",
    "print(\"Movie names and release year from Prime Video platform:\")\n",
    "print(prime_video_movies_sorted)"
   ]
  },
  {
   "cell_type": "markdown",
   "id": "a83f67c9-846c-4aac-be82-3e906fbc2bf0",
   "metadata": {},
   "source": [
    "#### 11. Print all the movie names which contains the name ‘tiger’."
   ]
  },
  {
   "cell_type": "code",
   "execution_count": 31,
   "id": "4d270cf1-9660-423e-ac17-a49f08f14e18",
   "metadata": {},
   "outputs": [
    {
     "name": "stdout",
     "output_type": "stream",
     "text": [
      "Movies containing the name 'tiger':\n",
      "39                                 Bill Burr: Paper Tiger\n",
      "313                                       The White Tiger\n",
      "848      Crouching Tiger, Hidden Dragon: Sword of Destiny\n",
      "1549                                            Tigertail\n",
      "1558                                    Dragon Tiger Gate\n",
      "2299                               The Royal Bengal Tiger\n",
      "3319                                                Tiger\n",
      "4868                                      Tiger Zinda Hai\n",
      "4944                                         Ek Tha Tiger\n",
      "5850                                          White Tiger\n",
      "5902                                         Tiger Orange\n",
      "6756                                     The Tiger Hunter\n",
      "7170                                         Bengal Tiger\n",
      "7631                          Rudy Ruettiger: The Walk On\n",
      "8290    The Daniel Tiger Movie: Won't You Be Our Neigh...\n",
      "8546                                  Return of the Tiger\n",
      "9200                                         Tiger Cruise\n",
      "9223                                      Let's Be Tigers\n",
      "Name: Title, dtype: object\n"
     ]
    }
   ],
   "source": [
    "tiger_movies = df[df['Title'].str.contains('tiger', case=False)]['Title']\n",
    "print(\"Movies containing the name 'tiger':\")\n",
    "print(tiger_movies)"
   ]
  },
  {
   "cell_type": "markdown",
   "id": "d52343fb-7fd2-4a8f-85b4-185d3bf4e75f",
   "metadata": {},
   "source": [
    "#### 12. Plot the count of share of all movies by platform."
   ]
  },
  {
   "cell_type": "code",
   "execution_count": 32,
   "id": "cf633d22-2692-4d11-add2-4cea5a71f239",
   "metadata": {},
   "outputs": [
    {
     "data": {
      "image/png": "[encoded data removed]",
      "text/plain": [
       "<Figure size 1000x600 with 1 Axes>"
      ]
     },
     "metadata": {},
     "output_type": "display_data"
    }
   ],
   "source": [
    "platform_counts = df.drop(columns=['Title', 'Year', 'Age', 'Rotten Tomatoes']).sum()\n",
    "plt.figure(figsize=(10, 6))\n",
    "sns.barplot(x=platform_counts.index, y=platform_counts.values)\n",
    "plt.xlabel('Platform')\n",
    "plt.ylabel('Count')\n",
    "plt.title('Count of movies by platform')\n",
    "plt.xticks(rotation=45)\n",
    "plt.show()"
   ]
  },
  {
   "cell_type": "markdown",
   "id": "8f29d9fa-e37a-445f-ba49-fc1d98307521",
   "metadata": {},
   "source": [
    "#### 13. What is the name of highest rated movie on Hulu?"
   ]
  },
  {
   "cell_type": "code",
   "execution_count": 33,
   "id": "dfbb20cc-fbfc-407e-b5a7-53944e5ce5fd",
   "metadata": {},
   "outputs": [
    {
     "name": "stdout",
     "output_type": "stream",
     "text": [
      "Name of highest rated movie on Hulu: The Social Network\n"
     ]
    }
   ],
   "source": [
    "highest_rated_hulu = df[df['Hulu'] == 1].nlargest(1, 'Rotten Tomatoes')['Title'].values[0]\n",
    "print(\"Name of highest rated movie on Hulu:\", highest_rated_hulu)"
   ]
  },
  {
   "cell_type": "markdown",
   "id": "0d8082ce-744c-4159-9849-b3a258f381ff",
   "metadata": {},
   "source": [
    "#### 14. Count the movies released years-wise on Netflix."
   ]
  },
  {
   "cell_type": "code",
   "execution_count": 34,
   "id": "f5ffc60f-9d96-44a3-8b1b-9a431edf244f",
   "metadata": {},
   "outputs": [
    {
     "name": "stdout",
     "output_type": "stream",
     "text": [
      "Movies released years-wise on Netflix:\n",
      "Year\n",
      "1954      2\n",
      "1956      1\n",
      "1958      1\n",
      "1959      1\n",
      "1960      1\n",
      "       ... \n",
      "2017    449\n",
      "2018    540\n",
      "2019    573\n",
      "2020    478\n",
      "2021    201\n",
      "Name: count, Length: 62, dtype: int64\n"
     ]
    }
   ],
   "source": [
    "netflix_movies_yearwise = df[df['Netflix'] == 1]['Year'].value_counts().sort_index()\n",
    "print(\"Movies released years-wise on Netflix:\")\n",
    "print(netflix_movies_yearwise)"
   ]
  },
  {
   "cell_type": "markdown",
   "id": "c6140b55-4822-4553-9df9-64c352bfda90",
   "metadata": {},
   "source": [
    "#### 15. Draw a barplot showing count of 18+ and 13+ movies on Disney."
   ]
  },
  {
   "cell_type": "code",
   "execution_count": 35,
   "id": "50728178-5842-4103-bb06-2f9df980109b",
   "metadata": {},
   "outputs": [
    {
     "data": {
      "image/png": "[encoded data removed]",
      "text/plain": [
       "<Figure size 800x500 with 1 Axes>"
      ]
     },
     "metadata": {},
     "output_type": "display_data"
    }
   ],
   "source": [
    "disney_age_counts = df[df['Disney+'] == 1]['Age'].value_counts()\n",
    "plt.figure(figsize=(8, 5))\n",
    "sns.barplot(x=disney_age_counts.index, y=disney_age_counts.values)\n",
    "plt.xlabel('Age Rating')\n",
    "plt.ylabel('Count')\n",
    "plt.title('Count of movies on Disney+ by age rating')\n",
    "plt.show()"
   ]
  },
  {
   "cell_type": "code",
   "execution_count": null,
   "id": "3db1f47e-74f6-4216-a738-8456230954bd",
   "metadata": {},
   "outputs": [],
   "source": []
  }
 ],
 "metadata": {
  "kernelspec": {
   "display_name": "Python 3 (ipykernel)",
   "language": "python",
   "name": "python3"
  },
  "language_info": {
   "codemirror_mode": {
    "name": "ipython",
    "version": 3
   },
   "file_extension": ".py",
   "mimetype": "text/x-python",
   "name": "python",
   "nbconvert_exporter": "python",
   "pygments_lexer": "ipython3",
   "version": "3.11.7"
  }
 },
 "nbformat": 4,
 "nbformat_minor": 5
}
